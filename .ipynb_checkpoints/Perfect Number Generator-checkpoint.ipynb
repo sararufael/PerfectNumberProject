{
 "cells": [
  {
   "cell_type": "code",
   "execution_count": 44,
   "metadata": {},
   "outputs": [
    {
     "data": {
      "text/plain": [
       "[6, 28, 496, 8128, 33550336, 8589869056, 137438691328]"
      ]
     },
     "execution_count": 44,
     "metadata": {},
     "output_type": "execute_result"
    }
   ],
   "source": [
    "def Factorer(integer):\n",
    "    arr_factors = []\n",
    "    number = 1\n",
    "    while number < integer:\n",
    "        if integer % number == 0:\n",
    "            arr_factors.append(number)\n",
    "        number = number + 1\n",
    "    return arr_factors\n",
    "\n",
    "\n",
    "def PerfectNumbers():\n",
    "    perfectNums = []\n",
    "    count = 1\n",
    "    mers = (2**count) - 1\n",
    "    while len(perfectNums) < 7:\n",
    "        if len(Factorer(mers)) == 1:\n",
    "            perfectNums.append((2**(count-1))*(mers))\n",
    "        count += 1\n",
    "        mers = (2**count) - 1\n",
    "    return perfectNums\n",
    "\n",
    "def PerfectTest(n):\n",
    "    if sum(Factorer(n)) == n:\n",
    "        return True\n",
    "    else:\n",
    "        return False\n",
    "\n",
    "\n",
    "PerfectNumbers()\n",
    "\n",
    "\n",
    "    \n",
    "    \n",
    "\n",
    "        \n",
    "\n",
    "        \n",
    "        \n",
    "    "
   ]
  },
  {
   "cell_type": "code",
   "execution_count": null,
   "metadata": {},
   "outputs": [],
   "source": []
  }
 ],
 "metadata": {
  "kernelspec": {
   "display_name": "Python 3",
   "language": "python",
   "name": "python3"
  }
 },
 "nbformat": 4,
 "nbformat_minor": 2
}
